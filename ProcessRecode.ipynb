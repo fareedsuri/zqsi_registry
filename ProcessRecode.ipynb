{
 "cells": [
  {
   "cell_type": "code",
   "execution_count": 2,
   "metadata": {},
   "outputs": [],
   "source": [
    "import os\n",
    "from openpyxl import load_workbook\n",
    "import pandas as pd\n",
    "from itertools import chain\n",
    "import re\n"
   ]
  },
  {
   "cell_type": "code",
   "execution_count": 3,
   "metadata": {},
   "outputs": [],
   "source": [
    "to_exclude = 'load,rename,recode,refilter,df,title'.split(',') "
   ]
  },
  {
   "cell_type": "code",
   "execution_count": 4,
   "metadata": {},
   "outputs": [],
   "source": [
    "\n",
    "# Get the current directory\n",
    "current_directory = os.getcwd()\n",
    "\n",
    "# Define the name of the Excel file you want to open\n",
    "file_name = \"recode.xlsx\"\n",
    "\n",
    "# Construct the full path to the Excel file\n",
    "file_path = os.path.join(current_directory, file_name)\n",
    "\n",
    "\n",
    "df_original_ = pd.read_excel(file_path, sheet_name=\"original\")\n",
    "df_recode_ = pd.read_excel(file_path, sheet_name=\"recode\")\n",
    "df_analysis_ = pd.read_excel(file_path, sheet_name=\"analysis\")\n"
   ]
  },
  {
   "cell_type": "code",
   "execution_count": 5,
   "metadata": {},
   "outputs": [],
   "source": [
    "df_recode = pd.concat([df_original_, df_recode_], axis=0).dropna(subset=['nvar'])"
   ]
  },
  {
   "cell_type": "code",
   "execution_count": 22,
   "metadata": {},
   "outputs": [],
   "source": [
    "df_analysis = df_analysis_[(df_analysis_['include']==1) & (~df_analysis_['command'].isin(to_exclude))]\n",
    "# col_2_vars = df_analysis[[2]][2].str.extract(r'var:(.+),')[0].unique()\n",
    "col_2_vars_ = []\n",
    "if not df_analysis[[2]][2].dropna().empty:\n",
    "  col_2_vars_1 = df_analysis[[2]][2].str.findall(r'[#\\$]([\\w_]+)').dropna()\n",
    "  col_2_vars_2 = df_analysis[[2]][2].str.findall(r'var:(.+),').dropna()\n",
    "  col_2_vars_ = col_2_vars_1 + col_2_vars_2\n",
    "col_2_vars = set(list(chain.from_iterable(col_2_vars_))) # set to get unique, chain to flatten\n",
    "\n",
    "col_1_vars_ = []\n",
    "if not df_analysis[[1]][1].dropna().empty:\n",
    "  col_1_vars_ = df_analysis[[1]][1].str.findall(r'[#\\$]([\\w_]+)').dropna()\n",
    "col_1_vars = set(list(chain.from_iterable(col_1_vars_))) # set to get unique, chain to flatten\n",
    "\n",
    "vars_list = set(list(col_2_vars) + list(col_1_vars))\n",
    "vars_list = [x for x in vars_list if pd.notna(x)]\n",
    "vars_list = sorted([x for x in vars_list])\n",
    "\n",
    "df_var_list = pd.DataFrame(vars_list,columns = ['var'])\n",
    "df_var_list['definition'] = ''"
   ]
  },
  {
   "cell_type": "code",
   "execution_count": 6,
   "metadata": {},
   "outputs": [],
   "source": [
    "def replace_pattern(match):\n",
    "    # pattern = match.group(0)  # Get the matched pattern\n",
    "    num = match.group(1) if match.group(1) is not None else match.group(2)\n",
    "    # print(num)\n",
    "    return \"$\" +df_recode.loc[df_recode['id'] == int(num), 'nvar'].iloc[0]  # Replace with corresponding 'nvar' value\n"
   ]
  },
  {
   "cell_type": "code",
   "execution_count": 185,
   "metadata": {},
   "outputs": [],
   "source": [
    "new_fx = []\n",
    "for value in df_recode['fx']:\n",
    "  # print(i,r['fx'])  \n",
    "  if not pd.isna(value):\n",
    "    new_fx.append(re.sub(r'[#\\$](\\d+)', replace_pattern, value))\n",
    "  else:\n",
    "    new_fx.append(value)\n",
    "df_recode['new_fx'] = new_fx"
   ]
  },
  {
   "cell_type": "code",
   "execution_count": 236,
   "metadata": {},
   "outputs": [],
   "source": [
    "\n",
    "def iterative_build_fx(nvar,built,level):\n",
    "  # get formula for the nvar\n",
    "  fx =  df_recode[df_recode['nvar']==nvar]['new_fx'].values[0]\n",
    "  var = df_recode[df_recode['nvar']==nvar]['var'].values[0]\n",
    "  if pd.isna(fx):\n",
    "    built = built + '\\t' * level + nvar + '=' + var + '\\n'\n",
    "    return built\n",
    "  fx_str = str(fx) if not isinstance(fx, str) else fx\n",
    "  # add formula to built using level as tabs\n",
    "  built = built + '\\t' * level + nvar + '=' + fx_str + '\\n'\n",
    "  # get list of each nvar in the formula\n",
    "  nvars = [x for x in  set(re.findall(r'[#\\$]([\\w_]+)',fx))]\n",
    "  for nvar in nvars:\n",
    "    built = iterative_build_fx(nvar,built,level+1)\n",
    "  return built\n",
    "\n",
    "for nvar in vars_list:\n",
    "  df_var_list.loc[df_var_list['var'] == nvar,'definition'] = iterative_build_fx(nvar, '', 0) \n",
    " \n",
    "  "
   ]
  },
  {
   "cell_type": "code",
   "execution_count": 238,
   "metadata": {},
   "outputs": [
    {
     "name": "stdout",
     "output_type": "stream",
     "text": [
      "                      var                                         definition\n",
      "0                     age                                          age=AGE\\n\n",
      "1                    dm10         dm10=iif($dm>0,1,0)\\n\\tdm=PREOP_DIABETES\\n\n",
      "2      evt_days_gp5_for_r  evt_days_gp5_for_r=#evt_days_gp5\\n\\tevt_days_g...\n",
      "3               evt_for_r             evt_for_r=an$evt\\n\\tevt=POSTOP_NEURO\\n\n",
      "4   evt_ret_tia_gp5_for_r  evt_ret_tia_gp5_for_r=switch(var:#evt_ret_tia_...\n",
      "5       evt_stk_gp5_for_r  evt_stk_gp5_for_r=switch(var:#evt_stk_30,<1:1,...\n",
      "6      evt_stk_mi_death_r  evt_stk_mi_death_r=#evt_stk_mi_death_\\n\\tevt_s...\n",
      "7            evt_stk_mi_r  evt_stk_mi_r=#evt_stk_mi_\\n\\tevt_stk_mi_=iif(#...\n",
      "8               evt_stk_r  evt_stk_r=iif($evt_no_stk==1,0,1)\\n\\tevt_no_st...\n",
      "9       evt_tia_gp5_for_r  evt_tia_gp5_for_r=switch(var:#evt_tia_30,<1:1,...\n",
      "10                  htn10                 htn10=iif($htn>0,1,0)\\n\\thtn=HTN\\n\n",
      "11                  race3  race3=iif($race==5,1,iif($race==3,2,3))\\n\\trac...\n",
      "12                  sex10             sex10=iif($sex==1,1,0)\\n\\tsex=GENDER\\n\n",
      "13                  smok3  smok3=iif($smok==0,3,$smok)\\n\\tsmok=PREOP_SMOK...\n"
     ]
    }
   ],
   "source": [
    "print(df_var_list)"
   ]
  },
  {
   "cell_type": "code",
   "execution_count": null,
   "metadata": {},
   "outputs": [],
   "source": []
  }
 ],
 "metadata": {
  "kernelspec": {
   "display_name": "base",
   "language": "python",
   "name": "python3"
  },
  "language_info": {
   "codemirror_mode": {
    "name": "ipython",
    "version": 3
   },
   "file_extension": ".py",
   "mimetype": "text/x-python",
   "name": "python",
   "nbconvert_exporter": "python",
   "pygments_lexer": "ipython3",
   "version": "3.9.18"
  }
 },
 "nbformat": 4,
 "nbformat_minor": 2
}
